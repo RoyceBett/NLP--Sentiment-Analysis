{
 "cells": [
  {
   "cell_type": "markdown",
   "id": "160a6f85-c007-47f5-9054-d1d0a8c470bd",
   "metadata": {},
   "source": [
    "# Sentiment Analyisis for Google and Apple."
   ]
  },
  {
   "cell_type": "markdown",
   "id": "600f69d6-55c5-48ea-81f3-6d48a21f642e",
   "metadata": {},
   "source": [
    "## Team Members"
   ]
  },
  {
   "cell_type": "markdown",
   "id": "220653a9-f5a0-4874-a499-081ad1d46415",
   "metadata": {},
   "source": [
    "- Royce Bett\n",
    "- Catherine Wangui\n",
    "- Wilson Mutungu\n",
    "- Paulette Ndeda"
   ]
  },
  {
   "cell_type": "markdown",
   "id": "2eaa0507-94ba-4049-83ae-78c0a8ddc27c",
   "metadata": {},
   "source": [
    "## Business Overview"
   ]
  }
 ],
 "metadata": {
  "kernelspec": {
   "display_name": "Python (learn-env)",
   "language": "python",
   "name": "learn-env"
  },
  "language_info": {
   "codemirror_mode": {
    "name": "ipython",
    "version": 3
   },
   "file_extension": ".py",
   "mimetype": "text/x-python",
   "name": "python",
   "nbconvert_exporter": "python",
   "pygments_lexer": "ipython3",
   "version": "3.10.14"
  }
 },
 "nbformat": 4,
 "nbformat_minor": 5
}
